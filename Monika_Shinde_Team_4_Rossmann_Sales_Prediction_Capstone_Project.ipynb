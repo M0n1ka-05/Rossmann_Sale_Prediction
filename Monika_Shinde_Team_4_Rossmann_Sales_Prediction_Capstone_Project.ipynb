{
  "nbformat": 4,
  "nbformat_minor": 0,
  "metadata": {
    "kernelspec": {
      "display_name": "Python 3",
      "language": "python",
      "name": "python3"
    },
    "language_info": {
      "codemirror_mode": {
        "name": "ipython",
        "version": 3
      },
      "file_extension": ".py",
      "mimetype": "text/x-python",
      "name": "python",
      "nbconvert_exporter": "python",
      "pygments_lexer": "ipython3",
      "version": "3.6.6"
    },
    "colab": {
      "name": "Monika Shinde - Team 4 - Rossmann Sales Prediction - Capstone Project.ipynb",
      "provenance": [],
      "collapsed_sections": [],
      "include_colab_link": true
    }
  },
  "cells": [
    {
      "cell_type": "markdown",
      "metadata": {
        "id": "view-in-github",
        "colab_type": "text"
      },
      "source": [
        "<a href=\"https://colab.research.google.com/github/M0n1ka-05/Rossmann_Sale_Prediction/blob/main/Monika_Shinde_Team_4_Rossmann_Sales_Prediction_Capstone_Project.ipynb\" target=\"_parent\"><img src=\"https://colab.research.google.com/assets/colab-badge.svg\" alt=\"Open In Colab\"/></a>"
      ]
    },
    {
      "cell_type": "markdown",
      "metadata": {
        "id": "tOGC-qoyhJeX"
      },
      "source": [
        "# <b><u> Project Title : Sales Prediction : Predicting sales of a major store chain Rossmann</u></b>"
      ]
    },
    {
      "cell_type": "markdown",
      "metadata": {
        "id": "Y06xIdG26kRF"
      },
      "source": [
        "## <b> Problem Description </b>\n",
        "\n",
        "### Rossmann operates over 3,000 drug stores in 7 European countries. Currently, Rossmann store managers are tasked with predicting their daily sales for up to six weeks in advance. Store sales are influenced by many factors, including promotions, competition, school and state holidays, seasonality, and locality. With thousands of individual managers predicting sales based on their unique circumstances, the accuracy of results can be quite varied.\n",
        "\n",
        "### You are provided with historical sales data for 1,115 Rossmann stores. The task is to forecast the \"Sales\" column for the test set. Note that some stores in the dataset were temporarily closed for refurbishment."
      ]
    },
    {
      "cell_type": "markdown",
      "metadata": {
        "id": "WWeU1f9bwqQq"
      },
      "source": [
        "## <b> Data Description </b>\r\n",
        "\r\n",
        "### <b>Rossmann Stores Data.csv </b> - historical data including Sales\r\n",
        "### <b>store.csv </b> - supplemental information about the stores\r\n",
        "\r\n",
        "\r\n",
        "### <b><u>Data fields</u></b>\r\n",
        "### Most of the fields are self-explanatory. The following are descriptions for those that aren't.\r\n",
        "\r\n",
        "* #### Id - an Id that represents a (Store, Date) duple within the test set\r\n",
        "* #### Store - a unique Id for each store\r\n",
        "* #### Sales - the turnover for any given day (this is what you are predicting)\r\n",
        "* #### Customers - the number of customers on a given day\r\n",
        "* #### Open - an indicator for whether the store was open: 0 = closed, 1 = open\r\n",
        "* #### StateHoliday - indicates a state holiday. Normally all stores, with few exceptions, are closed on state holidays. Note that all schools are closed on public holidays and weekends. a = public holiday, b = Easter holiday, c = Christmas, 0 = None\r\n",
        "* #### SchoolHoliday - indicates if the (Store, Date) was affected by the closure of public schools\r\n",
        "* #### StoreType - differentiates between 4 different store models: a, b, c, d\r\n",
        "* #### Assortment - describes an assortment level: a = basic, b = extra, c = extended\r\n",
        "* #### CompetitionDistance - distance in meters to the nearest competitor store\r\n",
        "* #### CompetitionOpenSince[Month/Year] - gives the approximate year and month of the time the nearest competitor was opened\r\n",
        "* #### Promo - indicates whether a store is running a promo on that day\r\n",
        "* #### Promo2 - Promo2 is a continuing and consecutive promotion for some stores: 0 = store is not participating, 1 = store is participating\r\n",
        "* #### Promo2Since[Year/Week] - describes the year and calendar week when the store started participating in Promo2\r\n",
        "* #### PromoInterval - describes the consecutive intervals Promo2 is started, naming the months the promotion is started anew. E.g. \"Feb,May,Aug,Nov\" means each round starts in February, May, August, November of any given year for that store"
      ]
    },
    {
      "cell_type": "markdown",
      "metadata": {
        "id": "nJqU9XDuovIj"
      },
      "source": [
        "### **What is Sale Forecasting(prediction)?**\r\n",
        "\r\n",
        "Sales forecasting is the process of estimating future sales. Accurate sales forecasts enable companies to make informed business decisions and predict short-term and long-term performance. Companies can base their forecasts on past sales data, industry-wide comparisons, and economic trends.\r\n",
        "\r\n",
        "It is easier for established companies to predict future sales based on years of past business data.Sales forecasting gives insight into how a company should manage its workforce, cash flow, and resources. In addition to helping a company allocate its internal resources effectively, predictive sales data is important for businesses when looking to acquire investment capital.\r\n",
        "\r\n",
        "Sales forecasting allows companies to:\r\n",
        "\r\n",
        "*   Predict achievable sales revenue;\r\n",
        "*   Efficiently allocate resources;\r\n",
        "*   Plan for future growth.\r\n",
        "\r\n",
        "\r\n"
      ]
    },
    {
      "cell_type": "markdown",
      "metadata": {
        "id": "CSkFznGiqZth"
      },
      "source": [
        "![rossmann-logo-web.png](data:image/png;base64,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)"
      ]
    },
    {
      "cell_type": "markdown",
      "metadata": {
        "id": "MM-OmJVXp-gZ"
      },
      "source": [
        "So, lets get started. Our major task as part of this project is to predict sales, for **Rossmann**. \r\n",
        "\r\n",
        "In this project we will analyse how various affect the sales for various stores."
      ]
    },
    {
      "cell_type": "markdown",
      "metadata": {
        "id": "0_ALY0Tk5l1J"
      },
      "source": [
        "Few points which we try to elaborate, in our project further:\r\n",
        "\r\n",
        "\r\n",
        "1.   We have null values which need to handled.\r\n",
        "2.   Dataset is too big, sampling is required.\r\n",
        "3.   There are few stored where sales is 0, even though stores are open, so need to check what is reason for that, and how to bring business there, if any changes required, or we can ignore it.\r\n",
        "4.   We have columns for Promo2 , most of stores having null value there, so need to check if promo 2 affecting sales , and how much it is affecting."
      ]
    },
    {
      "cell_type": "markdown",
      "metadata": {
        "id": "3OPce8TBsbRj"
      },
      "source": [
        "Few points based on initial analysis:\r\n"
      ]
    },
    {
      "cell_type": "code",
      "metadata": {
        "id": "3v7_19KE37-T"
      },
      "source": [
        "#importing libraries\r\n",
        "import pandas as pd\r\n",
        "import numpy as np\r\n",
        "import matplotlib.pyplot as plt\r\n",
        "import seaborn as sns\r\n",
        "%matplotlib inline\r\n",
        "\r\n",
        "import warnings\r\n",
        "warnings.filterwarnings('ignore')"
      ],
      "execution_count": 1,
      "outputs": []
    },
    {
      "cell_type": "code",
      "metadata": {
        "id": "dByMsuzT8Tnw",
        "colab": {
          "base_uri": "https://localhost:8080/"
        },
        "outputId": "a53b7309-445f-4655-c27f-b82d63c3966f"
      },
      "source": [
        "from google.colab import drive\r\n",
        "drive.mount('/content/drive')"
      ],
      "execution_count": 2,
      "outputs": [
        {
          "output_type": "stream",
          "text": [
            "Mounted at /content/drive\n"
          ],
          "name": "stdout"
        }
      ]
    },
    {
      "cell_type": "code",
      "metadata": {
        "id": "06eV1a3Y33Vd"
      },
      "source": [
        "file1 = ('/content/drive/MyDrive/AlmaBetter/Cohort Aravali/Module 4/Week 1/dat/Rossmann Stores Data.csv')\r\n",
        "file2 = ('/content/drive/MyDrive/AlmaBetter/Cohort Aravali/Module 4/Week 1/dat/store.csv')"
      ],
      "execution_count": 3,
      "outputs": []
    },
    {
      "cell_type": "code",
      "metadata": {
        "id": "ITpW9awV33Sg"
      },
      "source": [
        "sales_df = pd.read_csv(file1)\r\n",
        "store_df = pd.read_csv(file2)"
      ],
      "execution_count": 4,
      "outputs": []
    },
    {
      "cell_type": "markdown",
      "metadata": {
        "id": "Uy12HW5QxRRW"
      },
      "source": [
        "Let's see how our data looks like, and what all features we are having.\r\n",
        "\r\n"
      ]
    },
    {
      "cell_type": "code",
      "metadata": {
        "colab": {
          "base_uri": "https://localhost:8080/",
          "height": 107
        },
        "id": "lwYY90pA33PR",
        "outputId": "6aa6645b-c320-44d2-b497-35bf8cdf893c"
      },
      "source": [
        "sales_df.head(2)"
      ],
      "execution_count": 5,
      "outputs": [
        {
          "output_type": "execute_result",
          "data": {
            "text/html": [
              "<div>\n",
              "<style scoped>\n",
              "    .dataframe tbody tr th:only-of-type {\n",
              "        vertical-align: middle;\n",
              "    }\n",
              "\n",
              "    .dataframe tbody tr th {\n",
              "        vertical-align: top;\n",
              "    }\n",
              "\n",
              "    .dataframe thead th {\n",
              "        text-align: right;\n",
              "    }\n",
              "</style>\n",
              "<table border=\"1\" class=\"dataframe\">\n",
              "  <thead>\n",
              "    <tr style=\"text-align: right;\">\n",
              "      <th></th>\n",
              "      <th>Store</th>\n",
              "      <th>DayOfWeek</th>\n",
              "      <th>Date</th>\n",
              "      <th>Sales</th>\n",
              "      <th>Customers</th>\n",
              "      <th>Open</th>\n",
              "      <th>Promo</th>\n",
              "      <th>StateHoliday</th>\n",
              "      <th>SchoolHoliday</th>\n",
              "    </tr>\n",
              "  </thead>\n",
              "  <tbody>\n",
              "    <tr>\n",
              "      <th>0</th>\n",
              "      <td>1</td>\n",
              "      <td>5</td>\n",
              "      <td>2015-07-31</td>\n",
              "      <td>5263</td>\n",
              "      <td>555</td>\n",
              "      <td>1</td>\n",
              "      <td>1</td>\n",
              "      <td>0</td>\n",
              "      <td>1</td>\n",
              "    </tr>\n",
              "    <tr>\n",
              "      <th>1</th>\n",
              "      <td>2</td>\n",
              "      <td>5</td>\n",
              "      <td>2015-07-31</td>\n",
              "      <td>6064</td>\n",
              "      <td>625</td>\n",
              "      <td>1</td>\n",
              "      <td>1</td>\n",
              "      <td>0</td>\n",
              "      <td>1</td>\n",
              "    </tr>\n",
              "  </tbody>\n",
              "</table>\n",
              "</div>"
            ],
            "text/plain": [
              "   Store  DayOfWeek        Date  Sales  ...  Open  Promo  StateHoliday SchoolHoliday\n",
              "0      1          5  2015-07-31   5263  ...     1      1             0             1\n",
              "1      2          5  2015-07-31   6064  ...     1      1             0             1\n",
              "\n",
              "[2 rows x 9 columns]"
            ]
          },
          "metadata": {
            "tags": []
          },
          "execution_count": 5
        }
      ]
    },
    {
      "cell_type": "code",
      "metadata": {
        "colab": {
          "base_uri": "https://localhost:8080/",
          "height": 107
        },
        "id": "pUHwNk6n33NA",
        "outputId": "d8277726-0f2b-4f08-9cf9-3db87915f7c6"
      },
      "source": [
        "store_df.head(2)"
      ],
      "execution_count": 6,
      "outputs": [
        {
          "output_type": "execute_result",
          "data": {
            "text/html": [
              "<div>\n",
              "<style scoped>\n",
              "    .dataframe tbody tr th:only-of-type {\n",
              "        vertical-align: middle;\n",
              "    }\n",
              "\n",
              "    .dataframe tbody tr th {\n",
              "        vertical-align: top;\n",
              "    }\n",
              "\n",
              "    .dataframe thead th {\n",
              "        text-align: right;\n",
              "    }\n",
              "</style>\n",
              "<table border=\"1\" class=\"dataframe\">\n",
              "  <thead>\n",
              "    <tr style=\"text-align: right;\">\n",
              "      <th></th>\n",
              "      <th>Store</th>\n",
              "      <th>StoreType</th>\n",
              "      <th>Assortment</th>\n",
              "      <th>CompetitionDistance</th>\n",
              "      <th>CompetitionOpenSinceMonth</th>\n",
              "      <th>CompetitionOpenSinceYear</th>\n",
              "      <th>Promo2</th>\n",
              "      <th>Promo2SinceWeek</th>\n",
              "      <th>Promo2SinceYear</th>\n",
              "      <th>PromoInterval</th>\n",
              "    </tr>\n",
              "  </thead>\n",
              "  <tbody>\n",
              "    <tr>\n",
              "      <th>0</th>\n",
              "      <td>1</td>\n",
              "      <td>c</td>\n",
              "      <td>a</td>\n",
              "      <td>1270.0</td>\n",
              "      <td>9.0</td>\n",
              "      <td>2008.0</td>\n",
              "      <td>0</td>\n",
              "      <td>NaN</td>\n",
              "      <td>NaN</td>\n",
              "      <td>NaN</td>\n",
              "    </tr>\n",
              "    <tr>\n",
              "      <th>1</th>\n",
              "      <td>2</td>\n",
              "      <td>a</td>\n",
              "      <td>a</td>\n",
              "      <td>570.0</td>\n",
              "      <td>11.0</td>\n",
              "      <td>2007.0</td>\n",
              "      <td>1</td>\n",
              "      <td>13.0</td>\n",
              "      <td>2010.0</td>\n",
              "      <td>Jan,Apr,Jul,Oct</td>\n",
              "    </tr>\n",
              "  </tbody>\n",
              "</table>\n",
              "</div>"
            ],
            "text/plain": [
              "   Store StoreType  ... Promo2SinceYear    PromoInterval\n",
              "0      1         c  ...             NaN              NaN\n",
              "1      2         a  ...          2010.0  Jan,Apr,Jul,Oct\n",
              "\n",
              "[2 rows x 10 columns]"
            ]
          },
          "metadata": {
            "tags": []
          },
          "execution_count": 6
        }
      ]
    },
    {
      "cell_type": "markdown",
      "metadata": {
        "id": "GT09S_Rhydhg"
      },
      "source": [
        "Look's cool. Now lets check how many values are null. \r\n",
        "\r\n",
        "Null or missing values, can have huge impact on our model. So it's important to handle them before hand."
      ]
    },
    {
      "cell_type": "code",
      "metadata": {
        "colab": {
          "base_uri": "https://localhost:8080/"
        },
        "id": "CwKyueUrmq_a",
        "outputId": "f07283d5-568d-4bec-fa6a-06a5136b889b"
      },
      "source": [
        "sales_df.isna().sum()"
      ],
      "execution_count": 7,
      "outputs": [
        {
          "output_type": "execute_result",
          "data": {
            "text/plain": [
              "Store            0\n",
              "DayOfWeek        0\n",
              "Date             0\n",
              "Sales            0\n",
              "Customers        0\n",
              "Open             0\n",
              "Promo            0\n",
              "StateHoliday     0\n",
              "SchoolHoliday    0\n",
              "dtype: int64"
            ]
          },
          "metadata": {
            "tags": []
          },
          "execution_count": 7
        }
      ]
    },
    {
      "cell_type": "code",
      "metadata": {
        "colab": {
          "base_uri": "https://localhost:8080/"
        },
        "id": "xDRV_j26l_zV",
        "outputId": "f09fd27c-911d-4133-89e3-8b262025d501"
      },
      "source": [
        "store_df.isna().sum()"
      ],
      "execution_count": 8,
      "outputs": [
        {
          "output_type": "execute_result",
          "data": {
            "text/plain": [
              "Store                          0\n",
              "StoreType                      0\n",
              "Assortment                     0\n",
              "CompetitionDistance            3\n",
              "CompetitionOpenSinceMonth    354\n",
              "CompetitionOpenSinceYear     354\n",
              "Promo2                         0\n",
              "Promo2SinceWeek              544\n",
              "Promo2SinceYear              544\n",
              "PromoInterval                544\n",
              "dtype: int64"
            ]
          },
          "metadata": {
            "tags": []
          },
          "execution_count": 8
        }
      ]
    },
    {
      "cell_type": "markdown",
      "metadata": {
        "id": "cVmYM5JyzCPm"
      },
      "source": [
        "Sales dataframe looks perfect, but store dataframe is having missing values."
      ]
    },
    {
      "cell_type": "code",
      "metadata": {
        "colab": {
          "base_uri": "https://localhost:8080/"
        },
        "id": "Pibpa9EIlI2Z",
        "outputId": "33275194-9430-4486-dd49-375d20507cde"
      },
      "source": [
        "sales_df.info()"
      ],
      "execution_count": 9,
      "outputs": [
        {
          "output_type": "stream",
          "text": [
            "<class 'pandas.core.frame.DataFrame'>\n",
            "RangeIndex: 1017209 entries, 0 to 1017208\n",
            "Data columns (total 9 columns):\n",
            " #   Column         Non-Null Count    Dtype \n",
            "---  ------         --------------    ----- \n",
            " 0   Store          1017209 non-null  int64 \n",
            " 1   DayOfWeek      1017209 non-null  int64 \n",
            " 2   Date           1017209 non-null  object\n",
            " 3   Sales          1017209 non-null  int64 \n",
            " 4   Customers      1017209 non-null  int64 \n",
            " 5   Open           1017209 non-null  int64 \n",
            " 6   Promo          1017209 non-null  int64 \n",
            " 7   StateHoliday   1017209 non-null  object\n",
            " 8   SchoolHoliday  1017209 non-null  int64 \n",
            "dtypes: int64(7), object(2)\n",
            "memory usage: 69.8+ MB\n"
          ],
          "name": "stdout"
        }
      ]
    },
    {
      "cell_type": "code",
      "metadata": {
        "id": "2VLRbSDT33JV",
        "colab": {
          "base_uri": "https://localhost:8080/"
        },
        "outputId": "3a0fb309-da6d-4028-9dfe-7aff26d6ef02"
      },
      "source": [
        "store_df.info()"
      ],
      "execution_count": 10,
      "outputs": [
        {
          "output_type": "stream",
          "text": [
            "<class 'pandas.core.frame.DataFrame'>\n",
            "RangeIndex: 1115 entries, 0 to 1114\n",
            "Data columns (total 10 columns):\n",
            " #   Column                     Non-Null Count  Dtype  \n",
            "---  ------                     --------------  -----  \n",
            " 0   Store                      1115 non-null   int64  \n",
            " 1   StoreType                  1115 non-null   object \n",
            " 2   Assortment                 1115 non-null   object \n",
            " 3   CompetitionDistance        1112 non-null   float64\n",
            " 4   CompetitionOpenSinceMonth  761 non-null    float64\n",
            " 5   CompetitionOpenSinceYear   761 non-null    float64\n",
            " 6   Promo2                     1115 non-null   int64  \n",
            " 7   Promo2SinceWeek            571 non-null    float64\n",
            " 8   Promo2SinceYear            571 non-null    float64\n",
            " 9   PromoInterval              571 non-null    object \n",
            "dtypes: float64(5), int64(2), object(3)\n",
            "memory usage: 87.2+ KB\n"
          ],
          "name": "stdout"
        }
      ]
    },
    {
      "cell_type": "code",
      "metadata": {
        "colab": {
          "base_uri": "https://localhost:8080/",
          "height": 884
        },
        "id": "eSy05on_l_wS",
        "outputId": "5c96de65-6973-4ba2-a11d-339c58a1320c"
      },
      "source": [
        "plt.subplots(figsize=(20,15))\r\n",
        "sns.heatmap(sales_df.corr(), annot = True)"
      ],
      "execution_count": 11,
      "outputs": [
        {
          "output_type": "execute_result",
          "data": {
            "text/plain": [
              "<matplotlib.axes._subplots.AxesSubplot at 0x7fc3e3243320>"
            ]
          },
          "metadata": {
            "tags": []
          },
          "execution_count": 11
        },
        {
          "output_type": "display_data",
          "data": {
            "image/png": "[encoded data removed]",
            "text/plain": [
              "<Figure size 1440x1080 with 2 Axes>"
            ]
          },
          "metadata": {
            "tags": [],
            "needs_background": "light"
          }
        }
      ]
    },
    {
      "cell_type": "code",
      "metadata": {
        "colab": {
          "base_uri": "https://localhost:8080/"
        },
        "id": "5M5dzsJTl_sQ",
        "outputId": "084df43d-407b-4236-e23a-33627a212a2c"
      },
      "source": [
        "sales_df['Customers'].value_counts()"
      ],
      "execution_count": 12,
      "outputs": [
        {
          "output_type": "execute_result",
          "data": {
            "text/plain": [
              "0       172869\n",
              "560       2414\n",
              "576       2363\n",
              "603       2337\n",
              "571       2330\n",
              "         ...  \n",
              "4328         1\n",
              "4894         1\n",
              "4160         1\n",
              "3972         1\n",
              "3485         1\n",
              "Name: Customers, Length: 4086, dtype: int64"
            ]
          },
          "metadata": {
            "tags": []
          },
          "execution_count": 12
        }
      ]
    },
    {
      "cell_type": "code",
      "metadata": {
        "colab": {
          "base_uri": "https://localhost:8080/"
        },
        "id": "MeYLt2le2pZi",
        "outputId": "fea62e7c-d463-40bd-b0ff-af2d2f64ecf3"
      },
      "source": [
        "sales_df[(sales_df['Customers'] == 0) & (sales_df['Open'] == 1)].value_counts()"
      ],
      "execution_count": 13,
      "outputs": [
        {
          "output_type": "execute_result",
          "data": {
            "text/plain": [
              "Store  DayOfWeek  Date        Sales  Customers  Open  Promo  StateHoliday  SchoolHoliday\n",
              "1100   3          2014-04-30  0      0          1     1      0             0                1\n",
              "1039   3          2013-07-10  0      0          1     0      0             0                1\n",
              "589    1          2013-04-29  0      0          1     1      0             0                1\n",
              "548    5          2014-09-05  0      0          1     1      0             1                1\n",
              "391    3          2013-08-28  0      0          1     1      0             1                1\n",
              "387    4          2014-07-24  0      0          1     0      0             1                1\n",
              "364    3          2013-05-08  0      0          1     0      0             0                1\n",
              "       2          2013-05-07  0      0          1     0      0             0                1\n",
              "357    1          2014-09-22  0      0          1     0      0             0                1\n",
              "353    6          2013-03-16  0      0          1     0      0             0                1\n",
              "339    4          2013-01-31  0      0          1     0      0             0                1\n",
              "       3          2013-01-30  0      0          1     0      0             0                1\n",
              "327    3          2014-03-12  0      0          1     0      0             0                1\n",
              "303    4          2014-07-24  0      0          1     0      0             1                1\n",
              "259    4          2013-02-07  0      0          1     1      0             0                1\n",
              "238    4          2014-07-24  0      0          1     0      0             1                1\n",
              "232    4          2013-01-24  0      0          1     1      0             0                1\n",
              "227    4          2014-09-11  0      0          1     0      0             0                1\n",
              "102    6          2014-07-12  0      0          1     0      0             0                1\n",
              "       4          2014-07-24  0      0          1     0      0             1                1\n",
              "57     2          2014-07-01  0      0          1     1      0             0                1\n",
              "28     4          2014-09-04  0      0          1     1      0             0                1\n",
              "       3          2014-09-03  0      0          1     1      0             1                1\n",
              "       2          2014-09-02  0      0          1     1      0             1                1\n",
              "25     4          2014-02-13  0      0          1     0      0             0                1\n",
              "623    5          2014-01-24  0      0          1     1      0             0                1\n",
              "       6          2014-01-25  0      0          1     0      0             0                1\n",
              "661    5          2014-04-04  0      0          1     1      0             0                1\n",
              "882    3          2014-07-23  0      0          1     0      0             1                1\n",
              "1039   2          2013-07-09  0      0          1     0      0             0                1\n",
              "1017   4          2014-06-05  0      0          1     1      0             0                1\n",
              "       3          2014-06-04  0      0          1     1      0             0                1\n",
              "986    2          2014-03-18  0      0          1     1      0             0                1\n",
              "983    6          2014-01-18  0      0          1     0      0             0                1\n",
              "       5          2014-01-17  0      0          1     0      0             0                1\n",
              "971    5          2015-05-15  0      0          1     0      0             1                1\n",
              "927    4          2013-08-08  0      0          1     0      0             1                1\n",
              "925    4          2014-07-03  0      0          1     1      0             0                1\n",
              "887    3          2014-07-23  0      0          1     0      0             0                1\n",
              "850    6          2014-03-29  0      0          1     0      0             0                1\n",
              "663    1          2013-09-02  0      0          1     0      0             1                1\n",
              "835    4          2014-09-11  0      0          1     0      0             0                1\n",
              "       3          2014-09-10  0      0          1     0      0             0                1\n",
              "762    4          2013-01-17  0      0          1     0      0             0                1\n",
              "708    3          2014-10-01  0      0          1     1      0             0                1\n",
              "700    3          2013-06-05  0      0          1     1      0             0                1\n",
              "699    4          2015-02-05  0      0          1     1      0             0                1\n",
              "681    5          2013-05-10  0      0          1     0      0             0                1\n",
              "674    4          2015-03-26  0      0          1     0      0             0                1\n",
              "665    6          2013-06-29  0      0          1     0      0             0                1\n",
              "       5          2013-06-28  0      0          1     0      0             0                1\n",
              "25     3          2014-02-12  0      0          1     0      0             0                1\n",
              "dtype: int64"
            ]
          },
          "metadata": {
            "tags": []
          },
          "execution_count": 13
        }
      ]
    },
    {
      "cell_type": "code",
      "metadata": {
        "id": "7S9CCmArl_nP"
      },
      "source": [
        ""
      ],
      "execution_count": 13,
      "outputs": []
    },
    {
      "cell_type": "code",
      "metadata": {
        "id": "91-rgoZUl_kB"
      },
      "source": [
        ""
      ],
      "execution_count": 13,
      "outputs": []
    }
  ]
}